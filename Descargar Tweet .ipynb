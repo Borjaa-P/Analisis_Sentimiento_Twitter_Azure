{
 "cells": [
  {
   "cell_type": "markdown",
   "metadata": {},
   "source": [
    "# Descargar Tweet con Tweepy"
   ]
  },
  {
   "cell_type": "code",
   "execution_count": null,
   "metadata": {},
   "outputs": [],
   "source": [
    "#Importamos librerias\n",
    "from tweepy import OAuthHandler\n",
    "from tweepy.streaming import StreamListener\n",
    "import tweepy\n",
    "import json\n",
    "import pandas as pd\n",
    "import csv\n",
    "import re\n",
    "import sys\n",
    "from textblob import TextBlob\n",
    "import string\n",
    "import preprocessor as p\n",
    "import os\n",
    "import time\n"
   ]
  },
  {
   "cell_type": "markdown",
   "metadata": {},
   "source": [
    "## Llamada a la API y Descarga de Tweets"
   ]
  },
  {
   "cell_type": "code",
   "execution_count": null,
   "metadata": {},
   "outputs": [],
   "source": [
    "# Credenciasles Twitter\n",
    "# Se obtienen desde tu cuentas de  twitter developer.\n",
    "consumer_key ='Rellenar con tus credenciales'\n",
    "consumer_secret ='Rellenar con tus credenciales'\n",
    "access_key ='Rellenar con tus credenciales'\n",
    "access_secret ='Rellenar con tus credenciales'\n",
    "\n",
    "# Pasa tus credenciales de  twitter a tweepy via OAuthHandler.\n",
    "auth = OAuthHandler(consumer_key, consumer_secret)\n",
    "auth.set_access_token(access_key, access_secret)\n",
    "api = tweepy.API(auth, wait_on_rate_limit = True)"
   ]
  },
  {
   "cell_type": "code",
   "execution_count": null,
   "metadata": {},
   "outputs": [],
   "source": [
    "#Función para descargarse los tweet.\n",
    "\n",
    "def text_query_to_csv(text_query,count,data_since):\n",
    "    try:\n",
    "        all_tweets = []\n",
    "        \n",
    "        # Creacción de  queryusando los parametos que necesitamos\n",
    "        print(\"Descargando Tweets\")\n",
    "        tweets = tweepy.Cursor(api.search,q=text_query,lang = 'es', locale ='UTF-8',since= data_since, tweet_mode='extended').items(count)\n",
    "        all_tweets = all_tweets + list(tweets)\n",
    "        print(\"Descargados Tweets\")\n",
    "        #Finalmente no necesira time.sleep,lo hace automaticamente poniendo un parametro en la función API.\n",
    "        #print(\"Esperando 15 min\")\n",
    "        # esperar 15 min api limit\n",
    "        #time.sleep(60*15)\n",
    "            \n",
    "        # Iteramos para sacar la información que queremos de cada tweet.\n",
    "        tweets_list = [[tweet.created_at, tweet.id,tweet.user.created_at,tweet.user.screen_name,tweet.user.description,tweet.user.location,\n",
    "                        tweet.user.friends_count,tweet.user.followers_count,tweet.user.statuses_count,tweet.retweet_count,\n",
    "                        tweet.full_text,tweet.entities['hashtags']] for tweet in all_tweets]\n",
    "\n",
    "        # Creaamos DataFrame con la lista de tweets\n",
    "        tweets_df = pd.DataFrame(tweets_list,columns=['Datetime','Tweet Id','Creacion','Username','Description','Location',\n",
    "                                                      'Following','Followers','Total Tweets','RT','Text','Hashtags'])\n",
    "\n",
    "        #Convertimos Df en csv\n",
    "        tweets_df.to_csv('{}-tweets.csv'.format('#LaIslaDeLasTentaciones5'), sep=',', index = False)\n",
    "\n",
    "    except BaseException as e:\n",
    "        print('failed on_status,',str(e))\n",
    "        #time.sleep(3)"
   ]
  },
  {
   "cell_type": "code",
   "execution_count": null,
   "metadata": {},
   "outputs": [],
   "source": [
    "# Valores con los que vamos a realizar la busqueda.\n",
    "\n",
    "#Hashtag que vamos a buscar y filtros que aplicamos en la busqueda. \n",
    "text_query = '(#LaIslaDeLasTentaciones5) -filter:links -filter:replies -filter:retweets'\n",
    "#Numero de tweets.\n",
    "count = 200000\n",
    "#Fecha desde que empezamos a buscar\n",
    "data_since ='2021-02-11'\n",
    "\n",
    "\n",
    "# Llamamos a la función \n",
    "text_query_to_csv(text_query,count,data_since)"
   ]
  },
  {
   "cell_type": "markdown",
   "metadata": {},
   "source": [
    "## Limpieza Tweets"
   ]
  },
  {
   "cell_type": "code",
   "execution_count": null,
   "metadata": {},
   "outputs": [],
   "source": [
    "#Importamos DF creado.\n",
    "df =pd.read_excel('#LaIslaDeLasTentaciones5-tweets.xlsx')"
   ]
  },
  {
   "cell_type": "code",
   "execution_count": null,
   "metadata": {},
   "outputs": [],
   "source": [
    "df.info()"
   ]
  },
  {
   "cell_type": "code",
   "execution_count": null,
   "metadata": {},
   "outputs": [],
   "source": [
    "df.tail()"
   ]
  },
  {
   "cell_type": "markdown",
   "metadata": {},
   "source": [
    "### Limpieza general "
   ]
  },
  {
   "cell_type": "code",
   "execution_count": null,
   "metadata": {},
   "outputs": [],
   "source": [
    "# Función para realizar limpieza general.\n",
    "\n",
    "def cleanUpTweet(txt):\n",
    "    # Remove mentions\n",
    "    txt = re.sub(r'@[A-Za-z0-9_]+', '', txt)\n",
    "    # Remove hashtags\n",
    "    txt = re.sub(r'#', '', txt)\n",
    "    # Remove retweets:\n",
    "    txt = re.sub(r'RT : ', '', txt)\n",
    "    # Remove urls\n",
    "    txt = re.sub(r'https?:\\/\\/[A-Za-z0-9\\.\\/]+', ' ', txt)\n",
    "    #Remove line break\n",
    "    txt = re.sub(r'\\n', ' ', txt )\n",
    "    #Remove-\n",
    "    txt = re.sub(r'-', ' ', txt )\n",
    "    return txt\n"
   ]
  },
  {
   "cell_type": "code",
   "execution_count": null,
   "metadata": {},
   "outputs": [],
   "source": [
    "#Aplicamos función\n",
    "\n",
    "df['Text'] = df['Text'].apply(cleanUpTweet)\n"
   ]
  },
  {
   "cell_type": "code",
   "execution_count": null,
   "metadata": {},
   "outputs": [],
   "source": [
    "df.tail(5)"
   ]
  },
  {
   "cell_type": "markdown",
   "metadata": {},
   "source": [
    "### Limpieza abreviaturas, reemplazar palabras y pasar a minuscula"
   ]
  },
  {
   "cell_type": "code",
   "execution_count": null,
   "metadata": {},
   "outputs": [],
   "source": [
    "#Abreviaturas \n",
    "abbrevs = {'d': 'de',\n",
    "               'x': 'por',\n",
    "               'xa': 'para',\n",
    "               'as': 'has',\n",
    "               'q': 'que',\n",
    "               'ke': 'que',\n",
    "               'k': 'que',\n",
    "               'dl': 'del',\n",
    "               'xq': 'porqué',\n",
    "               'dr': 'doctor',\n",
    "               'dra': 'doctora',\n",
    "               'sr': 'señor',\n",
    "               'sra': 'señora',\n",
    "               'm': 'me'}\n",
    "elementos = abbrevs.items()"
   ]
  },
  {
   "cell_type": "code",
   "execution_count": null,
   "metadata": {},
   "outputs": [],
   "source": [
    "#Función para remplazar abreviaturas, Hashtag y transformar texto en minuscula\n",
    "\n",
    "re.sub(r\"\\bis\\b\", \"was\", \"This is the best island!\")\n",
    "lista_abreviaturas =[]\n",
    "dfMo = df.copy()\n",
    "for a, b in elementos:\n",
    "    #lista_abreviaturas = list(map(lambda x : x.replace(x,i), df['Text']))\n",
    "    a = \" \" +a + \" \"\n",
    "    b = \" \" +b+ \" \"\n",
    "    \n",
    "    #dfMo['Text'] = dfMo['Text'].apply(lambda x :re.sub(a, b, x))\n",
    "    dfMo['Text'] = dfMo['Text'].str.replace(a,b,regex =True)\n",
    "\n",
    "#Hashtag    \n",
    "\n",
    "dfMo['Text'] = dfMo['Text'].apply(lambda x : x.replace('LaIslaDeLasTentaciones5','La Isla'))\n",
    "\n",
    "#Minusculas\n",
    "\n",
    "dfMo['Text']  = dfMo['Text'].apply(lambda x :x.lower())\n",
    "\n",
    "print(dfMo['Text'])\n",
    "\n",
    "    \n",
    "    "
   ]
  },
  {
   "cell_type": "markdown",
   "metadata": {},
   "source": [
    "### Limpieza emojis"
   ]
  },
  {
   "cell_type": "code",
   "execution_count": null,
   "metadata": {},
   "outputs": [],
   "source": [
    "#Función para eliminar emojis\n",
    "def remove_emoji(string):\n",
    "    emoji_pattern = re.compile(\"[\"\n",
    "                          u\"\\U0001F600-\\U0001F64F\"  # emoticonos\n",
    "                               u\"\\U0001F300-\\U0001F5FF\"  # simbolos y pictogramas\n",
    "                               u\"\\U0001F680-\\U0001F6FF\"  # Trasporte y s\n",
    "                               u\"\\U0001F1E0-\\U0001F1FF\"  # Banderas (iOS)\n",
    "                               u\"\\U00002500-\\U00002BEF\"  # chinese char\n",
    "                               u\"\\U00002702-\\U000027B0\"\n",
    "                               u\"\\U00002702-\\U000027B0\"\n",
    "                               u\"\\U000024C2-\\U0001F251\"\n",
    "                               u\"\\U0001f926-\\U0001f937\"\n",
    "                               u\"\\U00010000-\\U0010ffff\"\n",
    "                               u\"\\u2640-\\u2642\"\n",
    "                               u\"\\u2600-\\u2B55\"\n",
    "                               u\"\\u200d\"\n",
    "                               u\"\\u23cf\"\n",
    "                               u\"\\u23e9\"\n",
    "                               u\"\\u231a\"\n",
    "                               u\"\\ufe0f\"  \n",
    "                               u\"\\u3030\"\n",
    "                           \"]+\", flags=re.UNICODE)\n",
    "    return emoji_pattern.sub(r'', string)\n",
    "\n"
   ]
  },
  {
   "cell_type": "code",
   "execution_count": null,
   "metadata": {},
   "outputs": [],
   "source": [
    "#Aplicamos función\n",
    "\n",
    "dfMo['Text'] = dfMo['Text'].apply(remove_emoji)"
   ]
  },
  {
   "cell_type": "code",
   "execution_count": null,
   "metadata": {},
   "outputs": [],
   "source": [
    "#Guardamos DF con los tweets limpios\n",
    "\n",
    "dfMo.to_csv('LaIslaDeLastenataciones5-tweets-limpio-completo.csv')"
   ]
  },
  {
   "cell_type": "code",
   "execution_count": null,
   "metadata": {},
   "outputs": [],
   "source": [
    "dfMo.to_excel('LaIslaDeLastenataciones5-tweets-limpio-completo.xlsx')"
   ]
  }
 ],
 "metadata": {
  "kernelspec": {
   "display_name": "Python 3",
   "language": "python",
   "name": "python3"
  },
  "language_info": {
   "codemirror_mode": {
    "name": "ipython",
    "version": 3
   },
   "file_extension": ".py",
   "mimetype": "text/x-python",
   "name": "python",
   "nbconvert_exporter": "python",
   "pygments_lexer": "ipython3",
   "version": "3.8.5"
  },
  "nbTranslate": {
   "displayLangs": [
    "*"
   ],
   "hotkey": "alt-t",
   "langInMainMenu": true,
   "sourceLang": "en",
   "targetLang": "fr",
   "useGoogleTranslate": true
  }
 },
 "nbformat": 4,
 "nbformat_minor": 4
}
