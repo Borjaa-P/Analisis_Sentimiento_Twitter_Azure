{
 "cells": [
  {
   "cell_type": "markdown",
   "metadata": {},
   "source": [
    "# Análisis de sentimientos(Azure Text Analytics)"
   ]
  },
  {
   "cell_type": "code",
   "execution_count": null,
   "metadata": {},
   "outputs": [],
   "source": [
    "import pandas as pd \n",
    "import time"
   ]
  },
  {
   "cell_type": "code",
   "execution_count": null,
   "metadata": {},
   "outputs": [],
   "source": [
    "# Instaalmos libreria \n",
    "#! pip install azure-ai-textanalytics --pre"
   ]
  },
  {
   "cell_type": "code",
   "execution_count": null,
   "metadata": {},
   "outputs": [],
   "source": [
    "# Definimos las variables de conexion.Estas las tenemso que sacar de nuestro portal de Azure.\n",
    "\n",
    "key = \"Rellenar con claves personales\"\n",
    "endpoint = \"Rellenar con claves personales\""
   ]
  },
  {
   "cell_type": "code",
   "execution_count": null,
   "metadata": {},
   "outputs": [],
   "source": [
    "#Cree una función para crear una instancia del objeto TextAnalyticsClient con los objetos key y endpoint creados anteriormente. Luego, cree un cliente.\n",
    "\n",
    "from azure.ai.textanalytics import TextAnalyticsClient\n",
    "from azure.core.credentials import AzureKeyCredential\n",
    "\n",
    "def authenticate_client():\n",
    "    ta_credential = AzureKeyCredential(key)\n",
    "    text_analytics_client = TextAnalyticsClient(\n",
    "            endpoint=endpoint, \n",
    "            credential=ta_credential)\n",
    "    return text_analytics_client\n",
    "\n",
    "client = authenticate_client()"
   ]
  },
  {
   "cell_type": "code",
   "execution_count": null,
   "metadata": {},
   "outputs": [],
   "source": [
    "#Importamos csv que quremso Analizar.En este caso utilizaremso el descargado anteriormente.\n",
    "df = pd.read_csv('LaIslaDeLastenataciones5-tweets-limpio-completo.csv')"
   ]
  },
  {
   "cell_type": "code",
   "execution_count": null,
   "metadata": {},
   "outputs": [],
   "source": [
    "df.info()"
   ]
  },
  {
   "cell_type": "code",
   "execution_count": null,
   "metadata": {},
   "outputs": [],
   "source": [
    "df.tail()"
   ]
  },
  {
   "cell_type": "code",
   "execution_count": null,
   "metadata": {},
   "outputs": [],
   "source": [
    "#Pasamos la columna de Text para analizar.\n",
    "\n",
    "df['Text']"
   ]
  },
  {
   "cell_type": "code",
   "execution_count": null,
   "metadata": {},
   "outputs": [],
   "source": [
    "#Creamos función para llamar a la API.\n",
    "\n",
    "def sentiment_analysis_example(client, tweet):\n",
    "\n",
    "    documents = [tweet]\n",
    "    response = client.analyze_sentiment(documents=documents)[0]\n",
    "    return response\n"
   ]
  },
  {
   "cell_type": "code",
   "execution_count": null,
   "metadata": {
    "jupyter": {
     "outputs_hidden": true
    }
   },
   "outputs": [],
   "source": [
    "#Creamos funcion para iterar todos los tweet y crear DF.\n",
    "\n",
    "tweets_df=[] \n",
    "sentence_df=[] \n",
    "\n",
    "#Con el primer for sacaremos el sentimiento del tweet al completo\n",
    "for i in range(df['Text'].count()):\n",
    "    try:\n",
    "        tweet = df['Text'][i]\n",
    "        response = sentiment_analysis_example(client, tweet)\n",
    "    ''' print(\"Document Sentiment: {}\".format(response.sentiment))\n",
    "        print(\"Overall scores: positive={0:.2f}; neutral={1:.2f}; negative={2:.2f} \\n\".format(\n",
    "            response.confidence_scores.positive,\n",
    "            response.confidence_scores.neutral,\n",
    "            response.confidence_scores.negative,\n",
    "        ))'''\n",
    "        \n",
    "        # Atributos del Tweet con los que rellenaremos el primr DF.\n",
    "        tweets_df.append([tweet ,response.sentiment,response.confidence_scores.positive, response.confidence_scores.neutral,response.confidence_scores.negative])\n",
    "        #print(tweets_df)\n",
    "\n",
    "        #Con este segundo for sacamos el sentimiento por frases.\n",
    "        for idx, sentence in enumerate(response.sentences):\n",
    "            '''print(\"Sentence: {}\".format(sentence.text))\n",
    "            print(\"Sentence {} sentiment: {}\".format(idx+1, sentence.sentiment))\n",
    "            print(\"Sentence score:\\nPositive={0:.2f}\\nNeutral={1:.2f}\\nNegative={2:.2f}\\n\".format(\n",
    "                sentence.confidence_scores.positive,\n",
    "                sentence.confidence_scores.neutral,\n",
    "                sentence.confidence_scores.negative,\n",
    "            ))'''\n",
    "            \n",
    "            #Atributos de la frase  con las que rellenaremos segundo DF.\n",
    "            sentence_df.append([sentence.text,sentence.sentiment,sentence.confidence_scores.positive, sentence.confidence_scores.neutral,sentence.confidence_scores.negative])\n",
    "            #print(sentence_df)\n",
    "\n",
    "\n",
    "        print('Vamos a comprobar si tiene que esperar',i)\n",
    "        \n",
    "        # Cremos DF\n",
    "        tweets_df_final =pd.DataFrame(tweets_df,columns=['Text','Total sentimiento','Positivo','Neutral','Negativo'])         \n",
    "        sentence_df_final =pd.DataFrame(sentence_df,columns=['Text','Total sentimiento','Positivo','Neutral','Negativo'])\n",
    "\n",
    "        #Guardamos DF\n",
    "        tweets_df_final.to_csv('Sentimiento-tweets-5.csv', sep=',', index = False)\n",
    "        sentence_df_final.to_csv('Sentimientos-frases-5.csv', sep=',', index = False)\n",
    "            #comprobar limite\n",
    "        time.sleep(0.25)\n",
    "\n",
    "            #time.sleep(0.25) #Limite \n",
    "    except Exception:\n",
    "        print(\"Error en la llamada:\" + str(i))\n",
    "        pass\n",
    "\n",
    "#Podemos sacarlo fuera, pero si falla durante el proceso pierdo toda la información\n",
    "#tweets_df_final =pd.DataFrame(tweets_df,columns=['Text','Total sentimiento','Positivo','Neutral','Negativo'])         \n",
    "#sentence_df_final =pd.DataFrame(sentence_df,columns=['Text','Total sentimiento','Positivo','Neutral','Negativo'])\n",
    "\n",
    "\n",
    "#tweets_df_final.to_csv('Sentimiento-tweets-5.csv', sep=',', index = False)\n",
    "#sentence_df_final.to_csv('Sentimientos-frases-5.csv', sep=',', index = False)"
   ]
  },
  {
   "cell_type": "code",
   "execution_count": null,
   "metadata": {},
   "outputs": [],
   "source": [
    "#Importamso csv que hemos obtenido \n",
    "import pandas as pd \n",
    "df1 = pd.read_csv('Sentimiento-tweets-5.csv')\n",
    "df2 =pd.read_csv('Sentimientos-frases-5.csv')"
   ]
  },
  {
   "cell_type": "code",
   "execution_count": null,
   "metadata": {},
   "outputs": [],
   "source": [
    "df1['Total sentimiento'].value_counts()"
   ]
  },
  {
   "cell_type": "code",
   "execution_count": null,
   "metadata": {},
   "outputs": [],
   "source": [
    "df1.head()"
   ]
  },
  {
   "cell_type": "code",
   "execution_count": null,
   "metadata": {},
   "outputs": [],
   "source": [
    "\n",
    "df1.rename({ 'Text': 'Text_1'}, axis=1, inplace=True)"
   ]
  },
  {
   "cell_type": "code",
   "execution_count": null,
   "metadata": {},
   "outputs": [],
   "source": [
    "df.info()"
   ]
  },
  {
   "cell_type": "code",
   "execution_count": null,
   "metadata": {},
   "outputs": [],
   "source": [
    "#Concatenamos df para tener toda la informacióm\n",
    "df_concat =pd.concat([df,df1],axis =1) "
   ]
  },
  {
   "cell_type": "code",
   "execution_count": null,
   "metadata": {},
   "outputs": [],
   "source": [
    "df_concat.info()"
   ]
  },
  {
   "cell_type": "code",
   "execution_count": null,
   "metadata": {},
   "outputs": [],
   "source": [
    "df_concat.drop(['Unnamed: 0','Text_1',],1, inplace = True)"
   ]
  },
  {
   "cell_type": "code",
   "execution_count": null,
   "metadata": {},
   "outputs": [],
   "source": [
    "#Guardamos documento en la versión que queramos.\n",
    "df_concat.to_excel('DF_completo_final_IT5.xlsx')"
   ]
  },
  {
   "cell_type": "code",
   "execution_count": null,
   "metadata": {},
   "outputs": [],
   "source": []
  }
 ],
 "metadata": {
  "kernelspec": {
   "display_name": "Python 3",
   "language": "python",
   "name": "python3"
  },
  "language_info": {
   "codemirror_mode": {
    "name": "ipython",
    "version": 3
   },
   "file_extension": ".py",
   "mimetype": "text/x-python",
   "name": "python",
   "nbconvert_exporter": "python",
   "pygments_lexer": "ipython3",
   "version": "3.8.5"
  },
  "nbTranslate": {
   "displayLangs": [
    "*"
   ],
   "hotkey": "alt-t",
   "langInMainMenu": true,
   "sourceLang": "en",
   "targetLang": "fr",
   "useGoogleTranslate": true
  }
 },
 "nbformat": 4,
 "nbformat_minor": 4
}
