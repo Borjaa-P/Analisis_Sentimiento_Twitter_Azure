{
 "cells": [
  {
   "cell_type": "markdown",
   "metadata": {},
   "source": [
    "# DF aparición de concursante en Tweet."
   ]
  },
  {
   "cell_type": "code",
   "execution_count": null,
   "metadata": {},
   "outputs": [],
   "source": [
    "import pandas as pd \n",
    "import re"
   ]
  },
  {
   "cell_type": "code",
   "execution_count": null,
   "metadata": {},
   "outputs": [],
   "source": [
    "#Importamos df completo, tweets y sentimientos. \n",
    "\n",
    "df = pd.read_excel('DF_FINAL_IT4_FECHACAMBIADA.xlsx')"
   ]
  },
  {
   "cell_type": "code",
   "execution_count": null,
   "metadata": {},
   "outputs": [],
   "source": [
    "df.head()"
   ]
  },
  {
   "cell_type": "code",
   "execution_count": null,
   "metadata": {},
   "outputs": [],
   "source": [
    "# Nos quedamos con las columnas que necesitamos\n",
    "df = df[['Tweet Id','Text','Total sentimiento']]"
   ]
  },
  {
   "cell_type": "code",
   "execution_count": null,
   "metadata": {},
   "outputs": [],
   "source": [
    "df.info()"
   ]
  },
  {
   "cell_type": "code",
   "execution_count": null,
   "metadata": {},
   "outputs": [],
   "source": [
    "#Pasamos a mayusculas el tesxto que vamos a filtar.Opcional\n",
    "df_texto = df['Text'].apply(lambda x :x.upper())"
   ]
  },
  {
   "cell_type": "code",
   "execution_count": null,
   "metadata": {},
   "outputs": [],
   "source": [
    "#Función para normalizar los nombres.\n",
    "\n",
    "nombre = {'DIEGO': 'DIEGO',\n",
    "               'LOLA': 'LOLA',\n",
    "               'JESUS': 'JESUS',\n",
    "               'JESÚS': 'JESUS',\n",
    "               'MARINA': 'MARINA',\n",
    "               'LARA': 'LARA',\n",
    "               'HUGO': 'HUGO',\n",
    "               'HUGIÑO':'HUGO',\n",
    "               'RAUL': 'RAUL',\n",
    "               'RAÚL': 'RAUL',\n",
    "               'CLAUDIA': 'CLAUDIA',\n",
    "               'MANUEL': 'MANUEL',\n",
    "               'MANU': 'MANUEL',\n",
    "               'MANUÉ': 'MANUEL',\n",
    "               'MANUÉ': 'MANUEL',\n",
    "               'LUCIA': 'LUCIA',\n",
    "               'LUCÍA': 'LUCIA'\n",
    "          }\n",
    "nombres = nombre.items()\n",
    "\n",
    "re.sub(r\"\\bis\\b\", \"was\", \"This is the best island!\")\n",
    "lista_abreviaturas =[]\n",
    "df_texto_limpio = df_texto.copy()\n",
    "for a, b in nombres:\n",
    "    #lista_abreviaturas = list(map(lambda x : x.replace(x,i), df['Text']))\n",
    "    b = \" \" +b+ \" \"\n",
    "    \n",
    "    #dfMo['Text'] = dfMo['Text'].apply(lambda x :re.sub(a, b, x))\n",
    "    df_texto_limpio= df_texto_limpio.str.replace(a,b)\n",
    "    \n",
    "\n",
    "print(df_texto_limpio)"
   ]
  },
  {
   "cell_type": "code",
   "execution_count": null,
   "metadata": {},
   "outputs": [],
   "source": [
    "#Hacemos un split para dividir el tweet en palabras.\n",
    "\n",
    "df_texto =df_texto_limpio.str.split(' ', expand=True)"
   ]
  },
  {
   "cell_type": "code",
   "execution_count": null,
   "metadata": {},
   "outputs": [],
   "source": [
    "#Concatenamos el texto con el df completo. Así tenemos el tweet relacionado con su Id.\n",
    "\n",
    "df_nombres= pd.concat([df, df_texto],1)"
   ]
  },
  {
   "cell_type": "code",
   "execution_count": null,
   "metadata": {},
   "outputs": [],
   "source": [
    "df_nombres.drop(['Text'],1,inplace = True)"
   ]
  },
  {
   "cell_type": "code",
   "execution_count": null,
   "metadata": {},
   "outputs": [],
   "source": [
    "#Hacemos un melt para pasar todas las palabras a una columna.\n",
    "\n",
    "df_buscar_nombres = pd.melt(df_nombres, id_vars =('Tweet Id','Total sentimiento'), var_name ='Borrar', value_name ='Palabras') "
   ]
  },
  {
   "cell_type": "code",
   "execution_count": null,
   "metadata": {},
   "outputs": [],
   "source": [
    "#Eliminamos valores vacios.\n",
    "\n",
    "df_buscar_nombres.dropna(inplace = True)"
   ]
  },
  {
   "cell_type": "code",
   "execution_count": null,
   "metadata": {},
   "outputs": [],
   "source": [
    "df_buscar_nombres"
   ]
  },
  {
   "cell_type": "code",
   "execution_count": null,
   "metadata": {},
   "outputs": [],
   "source": [
    "#Filtramos para quedarnos solo con las filas que contengan algun concursante.\n",
    "\n",
    "df_concursantes = df_buscar_nombres[(df_buscar_nombres['Palabras'] == 'HUGO')\n",
    "                         | (df_buscar_nombres['Palabras'] == 'LOLA')\n",
    "                         | (df_buscar_nombres['Palabras'] == 'DIEGO')\n",
    "                         | (df_buscar_nombres['Palabras'] == 'JESUS')\n",
    "                         | (df_buscar_nombres['Palabras'] == 'MARINA')\n",
    "                         | (df_buscar_nombres['Palabras'] == 'LARA')\n",
    "                         | (df_buscar_nombres['Palabras'] == 'RAUL')\n",
    "                         | (df_buscar_nombres['Palabras'] == 'CLAUDIA') \n",
    "                         | (df_buscar_nombres['Palabras'] == 'MANUEL')\n",
    "                         | (df_buscar_nombres['Palabras'] == 'LUCIA')] \n"
   ]
  },
  {
   "cell_type": "code",
   "execution_count": null,
   "metadata": {},
   "outputs": [],
   "source": [
    "df_concursantes['Palabras'].value_counts()"
   ]
  },
  {
   "cell_type": "code",
   "execution_count": null,
   "metadata": {},
   "outputs": [],
   "source": [
    "#Guardamos DF \n",
    "df_concursantes.to_excel('Conciursantes_sentimientos.xlsx')"
   ]
  },
  {
   "cell_type": "code",
   "execution_count": null,
   "metadata": {},
   "outputs": [],
   "source": []
  }
 ],
 "metadata": {
  "kernelspec": {
   "display_name": "Python 3",
   "language": "python",
   "name": "python3"
  },
  "language_info": {
   "codemirror_mode": {
    "name": "ipython",
    "version": 3
   },
   "file_extension": ".py",
   "mimetype": "text/x-python",
   "name": "python",
   "nbconvert_exporter": "python",
   "pygments_lexer": "ipython3",
   "version": "3.8.5"
  }
 },
 "nbformat": 4,
 "nbformat_minor": 4
}
